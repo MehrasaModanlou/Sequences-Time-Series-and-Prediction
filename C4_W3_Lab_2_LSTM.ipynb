{
  "cells": [
    {
      "cell_type": "markdown",
      "metadata": {
        "id": "-Dpur_txyiEQ"
      },
      "source": [
        "<a href=\"https://colab.research.google.com/github/https-deeplearning-ai/tensorflow-1-public/blob/main/C4/W3/ungraded_labs/C4_W3_Lab_2_LSTM.ipynb\" target=\"_parent\"><img src=\"https://colab.research.google.com/assets/colab-badge.svg\" alt=\"Open In Colab\"/></a>"
      ]
    },
    {
      "cell_type": "markdown",
      "metadata": {
        "id": "sV_nvXSQGJPK"
      },
      "source": [
        "# Ungraded Lab: Using a multi-layer LSTM for forecasting\n",
        "\n",
        "In this lab, you will use the same RNN architecure in the first lab but will instead stack [LSTM](https://www.tensorflow.org/api_docs/python/tf/keras/layers/LSTM) layers instead of `SimpleRNN`."
      ]
    },
    {
      "cell_type": "markdown",
      "metadata": {
        "id": "3IMbAWETGOWD"
      },
      "source": [
        "## Imports"
      ]
    },
    {
      "cell_type": "code",
      "execution_count": 1,
      "metadata": {
        "id": "BOjujz601HcS"
      },
      "outputs": [],
      "source": [
        "import tensorflow as tf\n",
        "import numpy as np\n",
        "import matplotlib.pyplot as plt"
      ]
    },
    {
      "cell_type": "markdown",
      "metadata": {
        "id": "kD7RQQ0xGQVH"
      },
      "source": [
        "## Utilities"
      ]
    },
    {
      "cell_type": "code",
      "execution_count": 2,
      "metadata": {
        "id": "Zswl7jRtGzkk"
      },
      "outputs": [],
      "source": [
        "def plot_series(time, series, format=\"-\", start=0, end=None):\n",
        "    \"\"\"\n",
        "    Visualizes time series data\n",
        "\n",
        "    Args:\n",
        "      time (array of int) - contains the time steps\n",
        "      series (array of int) - contains the measurements for each time step\n",
        "      format - line style when plotting the graph\n",
        "      start - first time step to plot\n",
        "      end - last time step to plot\n",
        "    \"\"\"\n",
        "\n",
        "    # Setup dimensions of the graph figure\n",
        "    plt.figure(figsize=(10, 6))\n",
        "\n",
        "    if type(series) is tuple:\n",
        "\n",
        "      for series_num in series:\n",
        "        # Plot the time series data\n",
        "        plt.plot(time[start:end], series_num[start:end], format)\n",
        "\n",
        "    else:\n",
        "      # Plot the time series data\n",
        "      plt.plot(time[start:end], series[start:end], format)\n",
        "\n",
        "    # Label the x-axis\n",
        "    plt.xlabel(\"Time\")\n",
        "\n",
        "    # Label the y-axis\n",
        "    plt.ylabel(\"Value\")\n",
        "\n",
        "    # Overlay a grid on the graph\n",
        "    plt.grid(True)\n",
        "\n",
        "    # Draw the graph on screen\n",
        "    plt.show()\n",
        "\n",
        "def trend(time, slope=0):\n",
        "    \"\"\"\n",
        "    Generates synthetic data that follows a straight line given a slope value.\n",
        "\n",
        "    Args:\n",
        "      time (array of int) - contains the time steps\n",
        "      slope (float) - determines the direction and steepness of the line\n",
        "\n",
        "    Returns:\n",
        "      series (array of float) - measurements that follow a straight line\n",
        "    \"\"\"\n",
        "\n",
        "    # Compute the linear series given the slope\n",
        "    series = slope * time\n",
        "\n",
        "    return series\n",
        "\n",
        "def seasonal_pattern(season_time):\n",
        "    \"\"\"\n",
        "    Just an arbitrary pattern, you can change it if you wish\n",
        "\n",
        "    Args:\n",
        "      season_time (array of float) - contains the measurements per time step\n",
        "\n",
        "    Returns:\n",
        "      data_pattern (array of float) -  contains revised measurement values according\n",
        "                                  to the defined pattern\n",
        "    \"\"\"\n",
        "\n",
        "    # Generate the values using an arbitrary pattern\n",
        "    data_pattern = np.where(season_time < 0.4,\n",
        "                    np.cos(season_time * 2 * np.pi),\n",
        "                    1 / np.exp(3 * season_time))\n",
        "\n",
        "    return data_pattern\n",
        "\n",
        "def seasonality(time, period, amplitude=1, phase=0):\n",
        "    \"\"\"\n",
        "    Repeats the same pattern at each period\n",
        "\n",
        "    Args:\n",
        "      time (array of int) - contains the time steps\n",
        "      period (int) - number of time steps before the pattern repeats\n",
        "      amplitude (int) - peak measured value in a period\n",
        "      phase (int) - number of time steps to shift the measured values\n",
        "\n",
        "    Returns:\n",
        "      data_pattern (array of float) - seasonal data scaled by the defined amplitude\n",
        "    \"\"\"\n",
        "\n",
        "    # Define the measured values per period\n",
        "    season_time = ((time + phase) % period) / period\n",
        "\n",
        "    # Generates the seasonal data scaled by the defined amplitude\n",
        "    data_pattern = amplitude * seasonal_pattern(season_time)\n",
        "\n",
        "    return data_pattern\n",
        "\n",
        "def noise(time, noise_level=1, seed=None):\n",
        "    \"\"\"Generates a normally distributed noisy signal\n",
        "\n",
        "    Args:\n",
        "      time (array of int) - contains the time steps\n",
        "      noise_level (float) - scaling factor for the generated signal\n",
        "      seed (int) - number generator seed for repeatability\n",
        "\n",
        "    Returns:\n",
        "      noise (array of float) - the noisy signal\n",
        "    \"\"\"\n",
        "\n",
        "    # Initialize the random number generator\n",
        "    rnd = np.random.RandomState(seed)\n",
        "\n",
        "    # Generate a random number for each time step and scale by the noise level\n",
        "    noise = rnd.randn(len(time)) * noise_level\n",
        "\n",
        "    return noise"
      ]
    },
    {
      "cell_type": "markdown",
      "metadata": {
        "id": "yxNyeFWjGSdj"
      },
      "source": [
        "## Generate the Synthetic Data"
      ]
    },
    {
      "cell_type": "code",
      "execution_count": 3,
      "metadata": {
        "id": "KYEUfDbdpHPm",
        "colab": {
          "base_uri": "https://localhost:8080/",
          "height": 542
        },
        "outputId": "050241f5-90be-4aa3-d8a6-1e7f57617151"
      },
      "outputs": [
        {
          "output_type": "display_data",
          "data": {
            "text/plain": [
              "<Figure size 1000x600 with 1 Axes>"
            ],
            "image/png": "[encoded data removed]"
          },
          "metadata": {}
        }
      ],
      "source": [
        "# Parameters\n",
        "time = np.arange(4 * 365 + 1, dtype=\"float32\")\n",
        "baseline = 10\n",
        "amplitude = 40\n",
        "slope = 0.05\n",
        "noise_level = 5\n",
        "\n",
        "# Create the series\n",
        "series = baseline + trend(time, slope) + seasonality(time, period=365, amplitude=amplitude)\n",
        "\n",
        "# Update with noise\n",
        "series += noise(time, noise_level, seed=42)\n",
        "\n",
        "# Plot the results\n",
        "plot_series(time, series)"
      ]
    },
    {
      "cell_type": "markdown",
      "metadata": {
        "id": "MYKCvv-eGWRc"
      },
      "source": [
        "## Split the Dataset"
      ]
    },
    {
      "cell_type": "code",
      "execution_count": 4,
      "metadata": {
        "id": "hpp0slenpKVD"
      },
      "outputs": [],
      "source": [
        "# Define the split time\n",
        "split_time = 1000\n",
        "\n",
        "# Get the train set\n",
        "time_train = time[:split_time]\n",
        "x_train = series[:split_time]\n",
        "\n",
        "# Get the validation set\n",
        "time_valid = time[split_time:]\n",
        "x_valid = series[split_time:]"
      ]
    },
    {
      "cell_type": "markdown",
      "metadata": {
        "id": "cktHz9aOGYtV"
      },
      "source": [
        "## Prepare Features and Labels"
      ]
    },
    {
      "cell_type": "code",
      "execution_count": 5,
      "metadata": {
        "id": "G_j_2_Mqwn7-"
      },
      "outputs": [],
      "source": [
        "# Parameters\n",
        "window_size = 20\n",
        "batch_size = 32\n",
        "shuffle_buffer_size = 1000"
      ]
    },
    {
      "cell_type": "code",
      "execution_count": 6,
      "metadata": {
        "id": "4sTTIOCbyShY"
      },
      "outputs": [],
      "source": [
        "def windowed_dataset(series, window_size, batch_size, shuffle_buffer):\n",
        "    \"\"\"Generates dataset windows\n",
        "\n",
        "    Args:\n",
        "      series (array of float) - contains the values of the time series\n",
        "      window_size (int) - the number of time steps to include in the feature\n",
        "      batch_size (int) - the batch size\n",
        "      shuffle_buffer(int) - buffer size to use for the shuffle method\n",
        "\n",
        "    Returns:\n",
        "      dataset (TF Dataset) - TF Dataset containing time windows\n",
        "    \"\"\"\n",
        "\n",
        "    # Generate a TF Dataset from the series values\n",
        "    dataset = tf.data.Dataset.from_tensor_slices(series)\n",
        "\n",
        "    # Window the data but only take those with the specified size\n",
        "    dataset = dataset.window(window_size + 1, shift=1, drop_remainder=True)\n",
        "\n",
        "    # Flatten the windows by putting its elements in a single batch\n",
        "    dataset = dataset.flat_map(lambda window: window.batch(window_size + 1))\n",
        "\n",
        "    # Create tuples with features and labels\n",
        "    dataset = dataset.map(lambda window: (window[:-1], window[-1]))\n",
        "\n",
        "    # Shuffle the windows\n",
        "    dataset = dataset.shuffle(shuffle_buffer)\n",
        "\n",
        "    # Create batches of windows\n",
        "    dataset = dataset.batch(batch_size).prefetch(1)\n",
        "\n",
        "    return dataset"
      ]
    },
    {
      "cell_type": "code",
      "execution_count": 7,
      "metadata": {
        "id": "vGj5-InSwtQQ"
      },
      "outputs": [],
      "source": [
        "# Generate the dataset windows\n",
        "dataset = windowed_dataset(x_train, window_size, batch_size, shuffle_buffer_size)"
      ]
    },
    {
      "cell_type": "markdown",
      "metadata": {
        "id": "p9-Ke8ZaGcjd"
      },
      "source": [
        "## Build the Model\n",
        "\n",
        "As mentioned, you will swap `SimpleRNN` for `LSTM` in this lab. It is also set as bidirectional below but feel free to revise later and see what results you get. LSTMs are much more complex in their internal architecture than simpleRNNs. It implements a cell state that allows it to remember sequences better than simple implementations. This added complexity results in a bigger set of parameters to train and you'll see that when you print the model summary below."
      ]
    },
    {
      "cell_type": "code",
      "execution_count": 8,
      "metadata": {
        "id": "A1Hl39rklkLm",
        "colab": {
          "base_uri": "https://localhost:8080/"
        },
        "outputId": "af73105b-bb6b-472e-d18b-dc3fe9eea0e3"
      },
      "outputs": [
        {
          "output_type": "stream",
          "name": "stdout",
          "text": [
            "Model: \"sequential\"\n",
            "_________________________________________________________________\n",
            " Layer (type)                Output Shape              Param #   \n",
            "=================================================================\n",
            " lambda (Lambda)             (None, 20, 1)             0         \n",
            "                                                                 \n",
            " bidirectional (Bidirection  (None, 20, 64)            8704      \n",
            " al)                                                             \n",
            "                                                                 \n",
            " bidirectional_1 (Bidirecti  (None, 64)                24832     \n",
            " onal)                                                           \n",
            "                                                                 \n",
            " dense (Dense)               (None, 1)                 65        \n",
            "                                                                 \n",
            " lambda_1 (Lambda)           (None, 1)                 0         \n",
            "                                                                 \n",
            "=================================================================\n",
            "Total params: 33601 (131.25 KB)\n",
            "Trainable params: 33601 (131.25 KB)\n",
            "Non-trainable params: 0 (0.00 Byte)\n",
            "_________________________________________________________________\n"
          ]
        }
      ],
      "source": [
        "# Build the Model\n",
        "model_tune = tf.keras.models.Sequential([\n",
        "  tf.keras.layers.Lambda(lambda x: tf.expand_dims(x, axis=-1),\n",
        "                      input_shape=[window_size]),\n",
        "    tf.keras.layers.Bidirectional(tf.keras.layers.LSTM(32, return_sequences=True)),\n",
        "  tf.keras.layers.Bidirectional(tf.keras.layers.LSTM(32)),\n",
        "  tf.keras.layers.Dense(1),\n",
        "  tf.keras.layers.Lambda(lambda x: x * 100.0)\n",
        "])\n",
        "\n",
        "# Print the model summary\n",
        "model_tune.summary()"
      ]
    },
    {
      "cell_type": "markdown",
      "metadata": {
        "id": "FHaFblbwq0GV"
      },
      "source": [
        "## Tune the Learning Rate\n",
        "\n",
        "As usual, you will pick a learning rate by running the tuning code below."
      ]
    },
    {
      "cell_type": "code",
      "execution_count": 9,
      "metadata": {
        "id": "qE7al18qw48G",
        "colab": {
          "base_uri": "https://localhost:8080/"
        },
        "outputId": "e7aa466f-5ef7-47ac-eb5a-23235541fac3"
      },
      "outputs": [
        {
          "output_type": "stream",
          "name": "stdout",
          "text": [
            "Epoch 1/100\n",
            "31/31 [==============================] - 16s 19ms/step - loss: 12.0195 - lr: 1.0000e-08\n",
            "Epoch 2/100\n",
            "31/31 [==============================] - 0s 10ms/step - loss: 11.9932 - lr: 1.1220e-08\n",
            "Epoch 3/100\n",
            "31/31 [==============================] - 1s 14ms/step - loss: 11.9610 - lr: 1.2589e-08\n",
            "Epoch 4/100\n",
            "31/31 [==============================] - 1s 14ms/step - loss: 11.9250 - lr: 1.4125e-08\n",
            "Epoch 5/100\n",
            "31/31 [==============================] - 1s 13ms/step - loss: 11.8846 - lr: 1.5849e-08\n",
            "Epoch 6/100\n",
            "31/31 [==============================] - 1s 14ms/step - loss: 11.8391 - lr: 1.7783e-08\n",
            "Epoch 7/100\n",
            "31/31 [==============================] - 0s 9ms/step - loss: 11.7878 - lr: 1.9953e-08\n",
            "Epoch 8/100\n",
            "31/31 [==============================] - 0s 10ms/step - loss: 11.7312 - lr: 2.2387e-08\n",
            "Epoch 9/100\n",
            "31/31 [==============================] - 0s 9ms/step - loss: 11.6660 - lr: 2.5119e-08\n",
            "Epoch 10/100\n",
            "31/31 [==============================] - 0s 9ms/step - loss: 11.5930 - lr: 2.8184e-08\n",
            "Epoch 11/100\n",
            "31/31 [==============================] - 0s 9ms/step - loss: 11.5112 - lr: 3.1623e-08\n",
            "Epoch 12/100\n",
            "31/31 [==============================] - 0s 9ms/step - loss: 11.4172 - lr: 3.5481e-08\n",
            "Epoch 13/100\n",
            "31/31 [==============================] - 0s 10ms/step - loss: 11.3100 - lr: 3.9811e-08\n",
            "Epoch 14/100\n",
            "31/31 [==============================] - 0s 10ms/step - loss: 11.1894 - lr: 4.4668e-08\n",
            "Epoch 15/100\n",
            "31/31 [==============================] - 0s 10ms/step - loss: 11.0511 - lr: 5.0119e-08\n",
            "Epoch 16/100\n",
            "31/31 [==============================] - 0s 9ms/step - loss: 10.8885 - lr: 5.6234e-08\n",
            "Epoch 17/100\n",
            "31/31 [==============================] - 0s 10ms/step - loss: 10.7007 - lr: 6.3096e-08\n",
            "Epoch 18/100\n",
            "31/31 [==============================] - 0s 11ms/step - loss: 10.4823 - lr: 7.0795e-08\n",
            "Epoch 19/100\n",
            "31/31 [==============================] - 0s 10ms/step - loss: 10.2215 - lr: 7.9433e-08\n",
            "Epoch 20/100\n",
            "31/31 [==============================] - 0s 10ms/step - loss: 9.9124 - lr: 8.9125e-08\n",
            "Epoch 21/100\n",
            "31/31 [==============================] - 0s 9ms/step - loss: 9.5686 - lr: 1.0000e-07\n",
            "Epoch 22/100\n",
            "31/31 [==============================] - 0s 9ms/step - loss: 9.2295 - lr: 1.1220e-07\n",
            "Epoch 23/100\n",
            "31/31 [==============================] - 0s 9ms/step - loss: 8.9554 - lr: 1.2589e-07\n",
            "Epoch 24/100\n",
            "31/31 [==============================] - 0s 10ms/step - loss: 8.7130 - lr: 1.4125e-07\n",
            "Epoch 25/100\n",
            "31/31 [==============================] - 0s 10ms/step - loss: 8.4784 - lr: 1.5849e-07\n",
            "Epoch 26/100\n",
            "31/31 [==============================] - 0s 13ms/step - loss: 8.2728 - lr: 1.7783e-07\n",
            "Epoch 27/100\n",
            "31/31 [==============================] - 1s 13ms/step - loss: 8.0373 - lr: 1.9953e-07\n",
            "Epoch 28/100\n",
            "31/31 [==============================] - 1s 14ms/step - loss: 7.9859 - lr: 2.2387e-07\n",
            "Epoch 29/100\n",
            "31/31 [==============================] - 0s 10ms/step - loss: 7.8485 - lr: 2.5119e-07\n",
            "Epoch 30/100\n",
            "31/31 [==============================] - 0s 10ms/step - loss: 7.8022 - lr: 2.8184e-07\n",
            "Epoch 31/100\n",
            "31/31 [==============================] - 0s 9ms/step - loss: 7.7470 - lr: 3.1623e-07\n",
            "Epoch 32/100\n",
            "31/31 [==============================] - 0s 10ms/step - loss: 7.7163 - lr: 3.5481e-07\n",
            "Epoch 33/100\n",
            "31/31 [==============================] - 0s 10ms/step - loss: 7.6055 - lr: 3.9811e-07\n",
            "Epoch 34/100\n",
            "31/31 [==============================] - 0s 10ms/step - loss: 7.5687 - lr: 4.4668e-07\n",
            "Epoch 35/100\n",
            "31/31 [==============================] - 0s 10ms/step - loss: 7.4181 - lr: 5.0119e-07\n",
            "Epoch 36/100\n",
            "31/31 [==============================] - 0s 10ms/step - loss: 7.4420 - lr: 5.6234e-07\n",
            "Epoch 37/100\n",
            "31/31 [==============================] - 0s 10ms/step - loss: 7.3381 - lr: 6.3096e-07\n",
            "Epoch 38/100\n",
            "31/31 [==============================] - 0s 10ms/step - loss: 7.2715 - lr: 7.0795e-07\n",
            "Epoch 39/100\n",
            "31/31 [==============================] - 0s 10ms/step - loss: 7.1150 - lr: 7.9433e-07\n",
            "Epoch 40/100\n",
            "31/31 [==============================] - 0s 11ms/step - loss: 7.0414 - lr: 8.9125e-07\n",
            "Epoch 41/100\n",
            "31/31 [==============================] - 0s 11ms/step - loss: 6.9932 - lr: 1.0000e-06\n",
            "Epoch 42/100\n",
            "31/31 [==============================] - 0s 10ms/step - loss: 6.9241 - lr: 1.1220e-06\n",
            "Epoch 43/100\n",
            "31/31 [==============================] - 0s 10ms/step - loss: 6.7573 - lr: 1.2589e-06\n",
            "Epoch 44/100\n",
            "31/31 [==============================] - 0s 10ms/step - loss: 6.9096 - lr: 1.4125e-06\n",
            "Epoch 45/100\n",
            "31/31 [==============================] - 0s 10ms/step - loss: 6.6000 - lr: 1.5849e-06\n",
            "Epoch 46/100\n",
            "31/31 [==============================] - 0s 11ms/step - loss: 6.4512 - lr: 1.7783e-06\n",
            "Epoch 47/100\n",
            "31/31 [==============================] - 0s 10ms/step - loss: 6.2199 - lr: 1.9953e-06\n",
            "Epoch 48/100\n",
            "31/31 [==============================] - 0s 10ms/step - loss: 6.1486 - lr: 2.2387e-06\n",
            "Epoch 49/100\n",
            "31/31 [==============================] - 1s 14ms/step - loss: 5.9551 - lr: 2.5119e-06\n",
            "Epoch 50/100\n",
            "31/31 [==============================] - 1s 14ms/step - loss: 6.1058 - lr: 2.8184e-06\n",
            "Epoch 51/100\n",
            "31/31 [==============================] - 1s 14ms/step - loss: 5.8191 - lr: 3.1623e-06\n",
            "Epoch 52/100\n",
            "31/31 [==============================] - 0s 9ms/step - loss: 5.5227 - lr: 3.5481e-06\n",
            "Epoch 53/100\n",
            "31/31 [==============================] - 0s 10ms/step - loss: 5.9924 - lr: 3.9811e-06\n",
            "Epoch 54/100\n",
            "31/31 [==============================] - 0s 10ms/step - loss: 5.3959 - lr: 4.4668e-06\n",
            "Epoch 55/100\n",
            "31/31 [==============================] - 0s 9ms/step - loss: 5.2546 - lr: 5.0119e-06\n",
            "Epoch 56/100\n",
            "31/31 [==============================] - 0s 11ms/step - loss: 5.3910 - lr: 5.6234e-06\n",
            "Epoch 57/100\n",
            "31/31 [==============================] - 0s 9ms/step - loss: 5.2960 - lr: 6.3096e-06\n",
            "Epoch 58/100\n",
            "31/31 [==============================] - 0s 10ms/step - loss: 5.3977 - lr: 7.0795e-06\n",
            "Epoch 59/100\n",
            "31/31 [==============================] - 0s 10ms/step - loss: 5.0789 - lr: 7.9433e-06\n",
            "Epoch 60/100\n",
            "31/31 [==============================] - 0s 10ms/step - loss: 5.1540 - lr: 8.9125e-06\n",
            "Epoch 61/100\n",
            "31/31 [==============================] - 0s 9ms/step - loss: 5.0254 - lr: 1.0000e-05\n",
            "Epoch 62/100\n",
            "31/31 [==============================] - 0s 9ms/step - loss: 4.9183 - lr: 1.1220e-05\n",
            "Epoch 63/100\n",
            "31/31 [==============================] - 0s 9ms/step - loss: 5.1684 - lr: 1.2589e-05\n",
            "Epoch 64/100\n",
            "31/31 [==============================] - 0s 9ms/step - loss: 5.7829 - lr: 1.4125e-05\n",
            "Epoch 65/100\n",
            "31/31 [==============================] - 0s 10ms/step - loss: 4.9920 - lr: 1.5849e-05\n",
            "Epoch 66/100\n",
            "31/31 [==============================] - 0s 10ms/step - loss: 4.9222 - lr: 1.7783e-05\n",
            "Epoch 67/100\n",
            "31/31 [==============================] - 0s 10ms/step - loss: 5.5943 - lr: 1.9953e-05\n",
            "Epoch 68/100\n",
            "31/31 [==============================] - 0s 10ms/step - loss: 4.8762 - lr: 2.2387e-05\n",
            "Epoch 69/100\n",
            "31/31 [==============================] - 0s 9ms/step - loss: 5.1979 - lr: 2.5119e-05\n",
            "Epoch 70/100\n",
            "31/31 [==============================] - 0s 9ms/step - loss: 5.8122 - lr: 2.8184e-05\n",
            "Epoch 71/100\n",
            "31/31 [==============================] - 0s 10ms/step - loss: 5.6799 - lr: 3.1623e-05\n",
            "Epoch 72/100\n",
            "31/31 [==============================] - 0s 12ms/step - loss: 5.1370 - lr: 3.5481e-05\n",
            "Epoch 73/100\n",
            "31/31 [==============================] - 1s 13ms/step - loss: 4.8722 - lr: 3.9811e-05\n",
            "Epoch 74/100\n",
            "31/31 [==============================] - 1s 14ms/step - loss: 5.6087 - lr: 4.4668e-05\n",
            "Epoch 75/100\n",
            "31/31 [==============================] - 1s 14ms/step - loss: 7.2395 - lr: 5.0119e-05\n",
            "Epoch 76/100\n",
            "31/31 [==============================] - 1s 10ms/step - loss: 5.6644 - lr: 5.6234e-05\n",
            "Epoch 77/100\n",
            "31/31 [==============================] - 0s 10ms/step - loss: 6.0303 - lr: 6.3096e-05\n",
            "Epoch 78/100\n",
            "31/31 [==============================] - 0s 10ms/step - loss: 6.0030 - lr: 7.0795e-05\n",
            "Epoch 79/100\n",
            "31/31 [==============================] - 0s 10ms/step - loss: 6.6648 - lr: 7.9433e-05\n",
            "Epoch 80/100\n",
            "31/31 [==============================] - 0s 10ms/step - loss: 7.8923 - lr: 8.9125e-05\n",
            "Epoch 81/100\n",
            "31/31 [==============================] - 0s 9ms/step - loss: 7.9747 - lr: 1.0000e-04\n",
            "Epoch 82/100\n",
            "31/31 [==============================] - 0s 10ms/step - loss: 5.7093 - lr: 1.1220e-04\n",
            "Epoch 83/100\n",
            "31/31 [==============================] - 0s 9ms/step - loss: 7.5725 - lr: 1.2589e-04\n",
            "Epoch 84/100\n",
            "31/31 [==============================] - 0s 10ms/step - loss: 7.4425 - lr: 1.4125e-04\n",
            "Epoch 85/100\n",
            "31/31 [==============================] - 0s 10ms/step - loss: 6.0348 - lr: 1.5849e-04\n",
            "Epoch 86/100\n",
            "31/31 [==============================] - 0s 10ms/step - loss: 8.9699 - lr: 1.7783e-04\n",
            "Epoch 87/100\n",
            "31/31 [==============================] - 0s 10ms/step - loss: 7.8304 - lr: 1.9953e-04\n",
            "Epoch 88/100\n",
            "31/31 [==============================] - 0s 9ms/step - loss: 9.8046 - lr: 2.2387e-04\n",
            "Epoch 89/100\n",
            "31/31 [==============================] - 0s 10ms/step - loss: 7.6949 - lr: 2.5119e-04\n",
            "Epoch 90/100\n",
            "31/31 [==============================] - 0s 10ms/step - loss: 7.7117 - lr: 2.8184e-04\n",
            "Epoch 91/100\n",
            "31/31 [==============================] - 1s 13ms/step - loss: 11.9178 - lr: 3.1623e-04\n",
            "Epoch 92/100\n",
            "31/31 [==============================] - 1s 14ms/step - loss: 7.3158 - lr: 3.5481e-04\n",
            "Epoch 93/100\n",
            "31/31 [==============================] - 1s 14ms/step - loss: 10.3730 - lr: 3.9811e-04\n",
            "Epoch 94/100\n",
            "31/31 [==============================] - 1s 14ms/step - loss: 8.8822 - lr: 4.4668e-04\n",
            "Epoch 95/100\n",
            "31/31 [==============================] - 1s 12ms/step - loss: 8.5382 - lr: 5.0119e-04\n",
            "Epoch 96/100\n",
            "31/31 [==============================] - 1s 14ms/step - loss: 8.6609 - lr: 5.6234e-04\n",
            "Epoch 97/100\n",
            "31/31 [==============================] - 1s 14ms/step - loss: 9.4771 - lr: 6.3096e-04\n",
            "Epoch 98/100\n",
            "31/31 [==============================] - 1s 12ms/step - loss: 7.9487 - lr: 7.0795e-04\n",
            "Epoch 99/100\n",
            "31/31 [==============================] - 0s 9ms/step - loss: 11.8812 - lr: 7.9433e-04\n",
            "Epoch 100/100\n",
            "31/31 [==============================] - 0s 10ms/step - loss: 12.6408 - lr: 8.9125e-04\n"
          ]
        }
      ],
      "source": [
        "# Set the learning rate scheduler\n",
        "lr_schedule = tf.keras.callbacks.LearningRateScheduler(\n",
        "    lambda epoch: 1e-8 * 10**(epoch / 20))\n",
        "\n",
        "# Initialize the optimizer\n",
        "optimizer = tf.keras.optimizers.SGD(momentum=0.9)\n",
        "\n",
        "# Set the training parameters\n",
        "model_tune.compile(loss=tf.keras.losses.Huber(), optimizer=optimizer)\n",
        "\n",
        "# Train the model\n",
        "history = model_tune.fit(dataset, epochs=100, callbacks=[lr_schedule])"
      ]
    },
    {
      "cell_type": "code",
      "execution_count": 10,
      "metadata": {
        "id": "AkBsrsXMzoWR",
        "colab": {
          "base_uri": "https://localhost:8080/",
          "height": 558
        },
        "outputId": "0e1e28c5-da9c-4508-c375-49b2b153d5b7"
      },
      "outputs": [
        {
          "output_type": "execute_result",
          "data": {
            "text/plain": [
              "(1e-08, 0.001, 0.0, 30.0)"
            ]
          },
          "metadata": {},
          "execution_count": 10
        },
        {
          "output_type": "display_data",
          "data": {
            "text/plain": [
              "<Figure size 1000x600 with 1 Axes>"
            ],
            "image/png": "[encoded data removed]"
          },
          "metadata": {}
        }
      ],
      "source": [
        "# Define the learning rate array\n",
        "lrs = 1e-8 * (10 ** (np.arange(100) / 20))\n",
        "\n",
        "# Set the figure size\n",
        "plt.figure(figsize=(10, 6))\n",
        "\n",
        "# Set the grid\n",
        "plt.grid(True)\n",
        "\n",
        "# Plot the loss in log scale\n",
        "plt.semilogx(lrs, history.history[\"loss\"])\n",
        "\n",
        "# Increase the tickmarks size\n",
        "plt.tick_params('both', length=10, width=1, which='both')\n",
        "\n",
        "# Set the plot boundaries\n",
        "plt.axis([1e-8, 1e-3, 0, 30])"
      ]
    },
    {
      "cell_type": "markdown",
      "metadata": {
        "id": "i-lKNp4pq_w8"
      },
      "source": [
        "## Train the Model\n",
        "\n",
        "You can then proceed to train the model with your chosen learning rate.\n",
        "\n",
        "*Tip: When experimenting and you find yourself running different iterations of a model, you may want to use the [`clear_session()`](https://www.tensorflow.org/api_docs/python/tf/keras/backend/clear_session) method to declutter memory used by Keras. This is added in the first line below.*\n"
      ]
    },
    {
      "cell_type": "code",
      "execution_count": 11,
      "metadata": {
        "id": "4uh-97bpLZCA",
        "colab": {
          "base_uri": "https://localhost:8080/"
        },
        "outputId": "6200b3f3-afa1-41c0-c58f-9d68be76d218"
      },
      "outputs": [
        {
          "output_type": "stream",
          "name": "stdout",
          "text": [
            "Epoch 1/100\n",
            "31/31 [==============================] - 7s 9ms/step - loss: 15.7949 - mae: 16.2869\n",
            "Epoch 2/100\n",
            "31/31 [==============================] - 0s 9ms/step - loss: 10.4438 - mae: 10.9355\n",
            "Epoch 3/100\n",
            "31/31 [==============================] - 0s 10ms/step - loss: 8.1227 - mae: 8.6082\n",
            "Epoch 4/100\n",
            "31/31 [==============================] - 0s 10ms/step - loss: 6.9839 - mae: 7.4621\n",
            "Epoch 5/100\n",
            "31/31 [==============================] - 0s 10ms/step - loss: 6.3167 - mae: 6.7999\n",
            "Epoch 6/100\n",
            "31/31 [==============================] - 0s 9ms/step - loss: 6.0128 - mae: 6.4919\n",
            "Epoch 7/100\n",
            "31/31 [==============================] - 0s 9ms/step - loss: 5.7768 - mae: 6.2575\n",
            "Epoch 8/100\n",
            "31/31 [==============================] - 0s 9ms/step - loss: 5.6211 - mae: 6.0975\n",
            "Epoch 9/100\n",
            "31/31 [==============================] - 0s 9ms/step - loss: 5.5368 - mae: 6.0178\n",
            "Epoch 10/100\n",
            "31/31 [==============================] - 0s 9ms/step - loss: 5.5099 - mae: 5.9882\n",
            "Epoch 11/100\n",
            "31/31 [==============================] - 0s 10ms/step - loss: 5.3408 - mae: 5.8191\n",
            "Epoch 12/100\n",
            "31/31 [==============================] - 0s 9ms/step - loss: 5.3667 - mae: 5.8455\n",
            "Epoch 13/100\n",
            "31/31 [==============================] - 0s 9ms/step - loss: 5.3908 - mae: 5.8689\n",
            "Epoch 14/100\n",
            "31/31 [==============================] - 0s 9ms/step - loss: 5.2233 - mae: 5.7007\n",
            "Epoch 15/100\n",
            "31/31 [==============================] - 0s 9ms/step - loss: 5.2046 - mae: 5.6879\n",
            "Epoch 16/100\n",
            "31/31 [==============================] - 0s 9ms/step - loss: 5.2236 - mae: 5.6966\n",
            "Epoch 17/100\n",
            "31/31 [==============================] - 0s 9ms/step - loss: 5.1400 - mae: 5.6139\n",
            "Epoch 18/100\n",
            "31/31 [==============================] - 0s 9ms/step - loss: 5.0969 - mae: 5.5752\n",
            "Epoch 19/100\n",
            "31/31 [==============================] - 0s 9ms/step - loss: 5.0893 - mae: 5.5684\n",
            "Epoch 20/100\n",
            "31/31 [==============================] - 0s 9ms/step - loss: 5.0880 - mae: 5.5644\n",
            "Epoch 21/100\n",
            "31/31 [==============================] - 0s 9ms/step - loss: 5.1222 - mae: 5.5961\n",
            "Epoch 22/100\n",
            "31/31 [==============================] - 0s 9ms/step - loss: 5.0319 - mae: 5.5098\n",
            "Epoch 23/100\n",
            "31/31 [==============================] - 0s 9ms/step - loss: 4.9897 - mae: 5.4648\n",
            "Epoch 24/100\n",
            "31/31 [==============================] - 0s 10ms/step - loss: 5.0307 - mae: 5.5066\n",
            "Epoch 25/100\n",
            "31/31 [==============================] - 1s 14ms/step - loss: 4.9871 - mae: 5.4663\n",
            "Epoch 26/100\n",
            "31/31 [==============================] - 1s 13ms/step - loss: 5.1252 - mae: 5.6033\n",
            "Epoch 27/100\n",
            "31/31 [==============================] - 1s 13ms/step - loss: 5.0792 - mae: 5.5578\n",
            "Epoch 28/100\n",
            "31/31 [==============================] - 0s 10ms/step - loss: 4.9449 - mae: 5.4209\n",
            "Epoch 29/100\n",
            "31/31 [==============================] - 0s 9ms/step - loss: 4.8982 - mae: 5.3784\n",
            "Epoch 30/100\n",
            "31/31 [==============================] - 0s 9ms/step - loss: 5.0078 - mae: 5.4847\n",
            "Epoch 31/100\n",
            "31/31 [==============================] - 0s 9ms/step - loss: 4.9254 - mae: 5.4033\n",
            "Epoch 32/100\n",
            "31/31 [==============================] - 0s 10ms/step - loss: 4.8765 - mae: 5.3539\n",
            "Epoch 33/100\n",
            "31/31 [==============================] - 0s 9ms/step - loss: 4.8826 - mae: 5.3592\n",
            "Epoch 34/100\n",
            "31/31 [==============================] - 0s 9ms/step - loss: 4.8236 - mae: 5.3021\n",
            "Epoch 35/100\n",
            "31/31 [==============================] - 0s 10ms/step - loss: 4.8339 - mae: 5.3092\n",
            "Epoch 36/100\n",
            "31/31 [==============================] - 0s 9ms/step - loss: 4.8701 - mae: 5.3461\n",
            "Epoch 37/100\n",
            "31/31 [==============================] - 0s 9ms/step - loss: 4.8224 - mae: 5.2977\n",
            "Epoch 38/100\n",
            "31/31 [==============================] - 0s 9ms/step - loss: 4.8323 - mae: 5.3089\n",
            "Epoch 39/100\n",
            "31/31 [==============================] - 0s 9ms/step - loss: 4.8574 - mae: 5.3345\n",
            "Epoch 40/100\n",
            "31/31 [==============================] - 0s 9ms/step - loss: 4.7858 - mae: 5.2634\n",
            "Epoch 41/100\n",
            "31/31 [==============================] - 0s 9ms/step - loss: 4.8333 - mae: 5.3104\n",
            "Epoch 42/100\n",
            "31/31 [==============================] - 0s 9ms/step - loss: 4.7922 - mae: 5.2706\n",
            "Epoch 43/100\n",
            "31/31 [==============================] - 0s 9ms/step - loss: 4.7956 - mae: 5.2774\n",
            "Epoch 44/100\n",
            "31/31 [==============================] - 0s 10ms/step - loss: 4.7329 - mae: 5.2099\n",
            "Epoch 45/100\n",
            "31/31 [==============================] - 0s 9ms/step - loss: 4.7976 - mae: 5.2751\n",
            "Epoch 46/100\n",
            "31/31 [==============================] - 0s 10ms/step - loss: 4.7047 - mae: 5.1813\n",
            "Epoch 47/100\n",
            "31/31 [==============================] - 0s 9ms/step - loss: 4.7377 - mae: 5.2151\n",
            "Epoch 48/100\n",
            "31/31 [==============================] - 0s 9ms/step - loss: 4.9351 - mae: 5.4148\n",
            "Epoch 49/100\n",
            "31/31 [==============================] - 0s 10ms/step - loss: 4.9475 - mae: 5.4258\n",
            "Epoch 50/100\n",
            "31/31 [==============================] - 0s 9ms/step - loss: 4.8504 - mae: 5.3276\n",
            "Epoch 51/100\n",
            "31/31 [==============================] - 1s 13ms/step - loss: 4.7032 - mae: 5.1800\n",
            "Epoch 52/100\n",
            "31/31 [==============================] - 1s 14ms/step - loss: 4.7593 - mae: 5.2368\n",
            "Epoch 53/100\n",
            "31/31 [==============================] - 1s 12ms/step - loss: 4.9321 - mae: 5.4122\n",
            "Epoch 54/100\n",
            "31/31 [==============================] - 1s 13ms/step - loss: 4.7576 - mae: 5.2336\n",
            "Epoch 55/100\n",
            "31/31 [==============================] - 0s 10ms/step - loss: 4.6723 - mae: 5.1497\n",
            "Epoch 56/100\n",
            "31/31 [==============================] - 0s 9ms/step - loss: 4.6733 - mae: 5.1525\n",
            "Epoch 57/100\n",
            "31/31 [==============================] - 0s 9ms/step - loss: 4.6648 - mae: 5.1426\n",
            "Epoch 58/100\n",
            "31/31 [==============================] - 0s 9ms/step - loss: 4.6369 - mae: 5.1118\n",
            "Epoch 59/100\n",
            "31/31 [==============================] - 0s 10ms/step - loss: 4.6538 - mae: 5.1307\n",
            "Epoch 60/100\n",
            "31/31 [==============================] - 0s 9ms/step - loss: 4.7080 - mae: 5.1874\n",
            "Epoch 61/100\n",
            "31/31 [==============================] - 0s 10ms/step - loss: 4.8149 - mae: 5.2923\n",
            "Epoch 62/100\n",
            "31/31 [==============================] - 0s 10ms/step - loss: 4.6088 - mae: 5.0856\n",
            "Epoch 63/100\n",
            "31/31 [==============================] - 0s 9ms/step - loss: 4.6006 - mae: 5.0788\n",
            "Epoch 64/100\n",
            "31/31 [==============================] - 0s 10ms/step - loss: 4.5970 - mae: 5.0791\n",
            "Epoch 65/100\n",
            "31/31 [==============================] - 0s 9ms/step - loss: 4.6443 - mae: 5.1229\n",
            "Epoch 66/100\n",
            "31/31 [==============================] - 0s 10ms/step - loss: 4.5896 - mae: 5.0641\n",
            "Epoch 67/100\n",
            "31/31 [==============================] - 0s 9ms/step - loss: 4.6146 - mae: 5.0919\n",
            "Epoch 68/100\n",
            "31/31 [==============================] - 0s 10ms/step - loss: 4.6285 - mae: 5.1067\n",
            "Epoch 69/100\n",
            "31/31 [==============================] - 0s 9ms/step - loss: 4.5947 - mae: 5.0732\n",
            "Epoch 70/100\n",
            "31/31 [==============================] - 0s 9ms/step - loss: 4.6306 - mae: 5.1056\n",
            "Epoch 71/100\n",
            "31/31 [==============================] - 0s 8ms/step - loss: 4.5638 - mae: 5.0413\n",
            "Epoch 72/100\n",
            "31/31 [==============================] - 0s 9ms/step - loss: 4.5701 - mae: 5.0481\n",
            "Epoch 73/100\n",
            "31/31 [==============================] - 0s 10ms/step - loss: 4.5741 - mae: 5.0545\n",
            "Epoch 74/100\n",
            "31/31 [==============================] - 0s 10ms/step - loss: 4.6204 - mae: 5.0958\n",
            "Epoch 75/100\n",
            "31/31 [==============================] - 0s 10ms/step - loss: 4.6024 - mae: 5.0778\n",
            "Epoch 76/100\n",
            "31/31 [==============================] - 0s 10ms/step - loss: 4.5367 - mae: 5.0131\n",
            "Epoch 77/100\n",
            "31/31 [==============================] - 0s 9ms/step - loss: 4.5621 - mae: 5.0384\n",
            "Epoch 78/100\n",
            "31/31 [==============================] - 1s 13ms/step - loss: 4.5198 - mae: 4.9989\n",
            "Epoch 79/100\n",
            "31/31 [==============================] - 1s 14ms/step - loss: 4.6433 - mae: 5.1193\n",
            "Epoch 80/100\n",
            "31/31 [==============================] - 1s 14ms/step - loss: 4.6082 - mae: 5.0831\n",
            "Epoch 81/100\n",
            "31/31 [==============================] - 0s 10ms/step - loss: 4.5852 - mae: 5.0618\n",
            "Epoch 82/100\n",
            "31/31 [==============================] - 0s 9ms/step - loss: 4.5561 - mae: 5.0327\n",
            "Epoch 83/100\n",
            "31/31 [==============================] - 0s 9ms/step - loss: 4.5644 - mae: 5.0429\n",
            "Epoch 84/100\n",
            "31/31 [==============================] - 0s 10ms/step - loss: 4.5388 - mae: 5.0188\n",
            "Epoch 85/100\n",
            "31/31 [==============================] - 0s 9ms/step - loss: 4.5130 - mae: 4.9927\n",
            "Epoch 86/100\n",
            "31/31 [==============================] - 0s 9ms/step - loss: 4.5375 - mae: 5.0193\n",
            "Epoch 87/100\n",
            "31/31 [==============================] - 0s 9ms/step - loss: 4.5621 - mae: 5.0396\n",
            "Epoch 88/100\n",
            "31/31 [==============================] - 0s 9ms/step - loss: 4.5280 - mae: 5.0061\n",
            "Epoch 89/100\n",
            "31/31 [==============================] - 0s 9ms/step - loss: 4.5429 - mae: 5.0238\n",
            "Epoch 90/100\n",
            "31/31 [==============================] - 0s 9ms/step - loss: 4.6301 - mae: 5.1048\n",
            "Epoch 91/100\n",
            "31/31 [==============================] - 0s 9ms/step - loss: 4.6051 - mae: 5.0843\n",
            "Epoch 92/100\n",
            "31/31 [==============================] - 0s 9ms/step - loss: 4.4860 - mae: 4.9647\n",
            "Epoch 93/100\n",
            "31/31 [==============================] - 0s 9ms/step - loss: 4.5245 - mae: 5.0004\n",
            "Epoch 94/100\n",
            "31/31 [==============================] - 0s 9ms/step - loss: 4.5093 - mae: 4.9891\n",
            "Epoch 95/100\n",
            "31/31 [==============================] - 0s 9ms/step - loss: 4.4916 - mae: 4.9682\n",
            "Epoch 96/100\n",
            "31/31 [==============================] - 0s 9ms/step - loss: 4.5093 - mae: 4.9893\n",
            "Epoch 97/100\n",
            "31/31 [==============================] - 0s 10ms/step - loss: 4.6063 - mae: 5.0856\n",
            "Epoch 98/100\n",
            "31/31 [==============================] - 0s 9ms/step - loss: 4.4964 - mae: 4.9750\n",
            "Epoch 99/100\n",
            "31/31 [==============================] - 0s 10ms/step - loss: 4.4609 - mae: 4.9358\n",
            "Epoch 100/100\n",
            "31/31 [==============================] - 0s 9ms/step - loss: 4.4817 - mae: 4.9617\n"
          ]
        }
      ],
      "source": [
        "# Reset states generated by Keras\n",
        "tf.keras.backend.clear_session()\n",
        "\n",
        "# Build the model\n",
        "model = tf.keras.models.Sequential([\n",
        "  tf.keras.layers.Lambda(lambda x: tf.expand_dims(x, axis=-1),\n",
        "                      input_shape=[None]),\n",
        "   tf.keras.layers.Bidirectional(tf.keras.layers.LSTM(32, return_sequences=True)),\n",
        "  tf.keras.layers.Bidirectional(tf.keras.layers.LSTM(32)),\n",
        "  tf.keras.layers.Dense(1),\n",
        "  tf.keras.layers.Lambda(lambda x: x * 100.0)\n",
        "])\n",
        "\n",
        "# Set the learning rate\n",
        "learning_rate = 2e-6\n",
        "\n",
        "# Set the optimizer\n",
        "optimizer = tf.keras.optimizers.SGD(learning_rate=learning_rate, momentum=0.9)\n",
        "\n",
        "# Set the training parameters\n",
        "model.compile(loss=tf.keras.losses.Huber(),\n",
        "              optimizer=optimizer,\n",
        "              metrics=[\"mae\"])\n",
        "\n",
        "# Train the model\n",
        "history = model.fit(dataset,epochs=100)"
      ]
    },
    {
      "cell_type": "markdown",
      "metadata": {
        "id": "RjP4kbGiI7cw"
      },
      "source": [
        "## Model Prediction\n",
        "\n",
        "You will then generate batches of windows to generate predictions that align with the validation set."
      ]
    },
    {
      "cell_type": "code",
      "execution_count": 12,
      "metadata": {
        "id": "QO8cfKwKBBG6"
      },
      "outputs": [],
      "source": [
        "def model_forecast(model, series, window_size, batch_size):\n",
        "    \"\"\"Uses an input model to generate predictions on data windows\n",
        "\n",
        "    Args:\n",
        "      model (TF Keras Model) - model that accepts data windows\n",
        "      series (array of float) - contains the values of the time series\n",
        "      window_size (int) - the number of time steps to include in the window\n",
        "      batch_size (int) - the batch size\n",
        "\n",
        "    Returns:\n",
        "      forecast (numpy array) - array containing predictions\n",
        "    \"\"\"\n",
        "\n",
        "    # Generate a TF Dataset from the series values\n",
        "    dataset = tf.data.Dataset.from_tensor_slices(series)\n",
        "\n",
        "    # Window the data but only take those with the specified size\n",
        "    dataset = dataset.window(window_size, shift=1, drop_remainder=True)\n",
        "\n",
        "    # Flatten the windows by putting its elements in a single batch\n",
        "    dataset = dataset.flat_map(lambda w: w.batch(window_size))\n",
        "\n",
        "    # Create batches of windows\n",
        "    dataset = dataset.batch(batch_size).prefetch(1)\n",
        "\n",
        "    # Get predictions on the entire dataset\n",
        "    forecast = model.predict(dataset)\n",
        "\n",
        "    return forecast"
      ]
    },
    {
      "cell_type": "code",
      "execution_count": 13,
      "metadata": {
        "id": "_plB3UseBD8o",
        "colab": {
          "base_uri": "https://localhost:8080/",
          "height": 559
        },
        "outputId": "b0b72a9e-1725-4d94-fa05-7b449eabf4ad"
      },
      "outputs": [
        {
          "output_type": "stream",
          "name": "stdout",
          "text": [
            "15/15 [==============================] - 3s 12ms/step\n"
          ]
        },
        {
          "output_type": "display_data",
          "data": {
            "text/plain": [
              "<Figure size 1000x600 with 1 Axes>"
            ],
            "image/png": "[encoded data removed]"
          },
          "metadata": {}
        }
      ],
      "source": [
        "# Reduce the original series\n",
        "forecast_series = series[split_time-window_size:-1]\n",
        "\n",
        "# Use helper function to generate predictions\n",
        "forecast = model_forecast(model, forecast_series, window_size, batch_size)\n",
        "\n",
        "# Drop single dimensional axis\n",
        "results = forecast.squeeze()\n",
        "\n",
        "# Plot the results\n",
        "plot_series(time_valid, (x_valid, results))"
      ]
    },
    {
      "cell_type": "markdown",
      "metadata": {
        "id": "Nn8iSQkZtaRC"
      },
      "source": [
        "You can then generate the metrics to evaluate the model's performance."
      ]
    },
    {
      "cell_type": "code",
      "execution_count": 14,
      "metadata": {
        "id": "-IKhueZaBGID",
        "colab": {
          "base_uri": "https://localhost:8080/"
        },
        "outputId": "ae38a929-d7ac-4f7c-cea9-8836a0677d0a"
      },
      "outputs": [
        {
          "output_type": "stream",
          "name": "stdout",
          "text": [
            "70.47457\n",
            "5.9635954\n"
          ]
        }
      ],
      "source": [
        "# Compute the MSE and MAE\n",
        "print(tf.keras.metrics.mean_squared_error(x_valid, results).numpy())\n",
        "print(tf.keras.metrics.mean_absolute_error(x_valid, results).numpy())"
      ]
    },
    {
      "cell_type": "markdown",
      "metadata": {
        "id": "bzPIqeMWvbPy"
      },
      "source": [
        "## Wrap Up\n",
        "\n",
        "This concludes this short exercise on using LSTMs for time series forecasting. Next week, you will build upon this and add convolutions. Then, you will start to move away from synthetic data and use real-world datasets. See you there!"
      ]
    },
    {
      "cell_type": "markdown",
      "metadata": {
        "id": "U5PqTePGHeMH"
      },
      "source": [
        "## Optional: Including a Validation Set while Training\n",
        "\n",
        "Back in the first course of this specialization, you saw how you can also monitor the performance of your model against a validation set while training. You can also do that for this lab.\n",
        "\n",
        "First, you need to generate a `val_set` which are data windows and labels that your model can accept. You can simply reuse the `windowed_dataset` function for that and you can pass in the `x_valid` points to generate the windows."
      ]
    },
    {
      "cell_type": "code",
      "execution_count": 15,
      "metadata": {
        "id": "kvFVwL3PC4iX"
      },
      "outputs": [],
      "source": [
        "# Generate data windows of the validation set\n",
        "val_set = windowed_dataset(x_valid, window_size, batch_size, shuffle_buffer_size)"
      ]
    },
    {
      "cell_type": "markdown",
      "metadata": {
        "id": "p68j6XxEvP9K"
      },
      "source": [
        "You can then do the same training as before but pass in the `val_set` to the `validation_data` parameter of the `fit()` method."
      ]
    },
    {
      "cell_type": "code",
      "execution_count": 16,
      "metadata": {
        "id": "wujKz6tXDSn0",
        "colab": {
          "base_uri": "https://localhost:8080/"
        },
        "outputId": "839f3393-0571-4da9-a09f-651e4934cef9"
      },
      "outputs": [
        {
          "output_type": "stream",
          "name": "stdout",
          "text": [
            "Epoch 1/100\n",
            "31/31 [==============================] - 8s 57ms/step - loss: 22.0894 - mae: 22.5849 - val_loss: 26.2209 - val_mae: 26.7201\n",
            "Epoch 2/100\n",
            "31/31 [==============================] - 1s 13ms/step - loss: 12.4757 - mae: 12.9693 - val_loss: 27.1137 - val_mae: 27.6132\n",
            "Epoch 3/100\n",
            "31/31 [==============================] - 1s 14ms/step - loss: 9.6769 - mae: 10.1663 - val_loss: 23.6594 - val_mae: 24.1573\n",
            "Epoch 4/100\n",
            "31/31 [==============================] - 0s 13ms/step - loss: 8.1877 - mae: 8.6719 - val_loss: 19.2880 - val_mae: 19.7835\n",
            "Epoch 5/100\n",
            "31/31 [==============================] - 0s 13ms/step - loss: 7.3191 - mae: 7.7996 - val_loss: 15.4879 - val_mae: 15.9815\n",
            "Epoch 6/100\n",
            "31/31 [==============================] - 0s 13ms/step - loss: 6.8605 - mae: 7.3400 - val_loss: 13.6870 - val_mae: 14.1805\n",
            "Epoch 7/100\n",
            "31/31 [==============================] - 1s 29ms/step - loss: 6.6563 - mae: 7.1382 - val_loss: 12.8675 - val_mae: 13.3600\n",
            "Epoch 8/100\n",
            "31/31 [==============================] - 2s 59ms/step - loss: 6.4677 - mae: 6.9461 - val_loss: 11.2336 - val_mae: 11.7219\n",
            "Epoch 9/100\n",
            "31/31 [==============================] - 1s 13ms/step - loss: 6.3376 - mae: 6.8180 - val_loss: 11.7604 - val_mae: 12.2552\n",
            "Epoch 10/100\n",
            "31/31 [==============================] - 1s 14ms/step - loss: 6.2644 - mae: 6.7448 - val_loss: 10.3823 - val_mae: 10.8725\n",
            "Epoch 11/100\n",
            "31/31 [==============================] - 0s 12ms/step - loss: 6.1949 - mae: 6.6793 - val_loss: 11.1268 - val_mae: 11.6218\n",
            "Epoch 12/100\n",
            "31/31 [==============================] - 1s 14ms/step - loss: 6.1484 - mae: 6.6306 - val_loss: 9.9876 - val_mae: 10.4773\n",
            "Epoch 13/100\n",
            "31/31 [==============================] - 1s 14ms/step - loss: 6.0346 - mae: 6.5165 - val_loss: 10.4714 - val_mae: 10.9663\n",
            "Epoch 14/100\n",
            "31/31 [==============================] - 1s 20ms/step - loss: 5.9567 - mae: 6.4372 - val_loss: 10.6473 - val_mae: 11.1398\n",
            "Epoch 15/100\n",
            "31/31 [==============================] - 1s 28ms/step - loss: 5.9406 - mae: 6.4196 - val_loss: 9.4173 - val_mae: 9.9033\n",
            "Epoch 16/100\n",
            "31/31 [==============================] - 1s 19ms/step - loss: 5.8265 - mae: 6.3082 - val_loss: 9.4950 - val_mae: 9.9812\n",
            "Epoch 17/100\n",
            "31/31 [==============================] - 1s 14ms/step - loss: 5.7938 - mae: 6.2754 - val_loss: 8.7979 - val_mae: 9.2835\n",
            "Epoch 18/100\n",
            "31/31 [==============================] - 0s 13ms/step - loss: 5.7974 - mae: 6.2753 - val_loss: 9.3311 - val_mae: 9.8212\n",
            "Epoch 19/100\n",
            "31/31 [==============================] - 1s 14ms/step - loss: 5.7235 - mae: 6.2000 - val_loss: 8.6021 - val_mae: 9.0890\n",
            "Epoch 20/100\n",
            "31/31 [==============================] - 0s 12ms/step - loss: 5.6659 - mae: 6.1417 - val_loss: 9.0649 - val_mae: 9.5534\n",
            "Epoch 21/100\n",
            "31/31 [==============================] - 0s 12ms/step - loss: 5.6657 - mae: 6.1455 - val_loss: 8.5194 - val_mae: 9.0047\n",
            "Epoch 22/100\n",
            "31/31 [==============================] - 0s 13ms/step - loss: 5.6401 - mae: 6.1202 - val_loss: 8.7158 - val_mae: 9.2004\n",
            "Epoch 23/100\n",
            "31/31 [==============================] - 0s 13ms/step - loss: 5.5612 - mae: 6.0372 - val_loss: 8.1595 - val_mae: 8.6427\n",
            "Epoch 24/100\n",
            "31/31 [==============================] - 1s 19ms/step - loss: 5.5288 - mae: 6.0085 - val_loss: 8.4635 - val_mae: 8.9483\n",
            "Epoch 25/100\n",
            "31/31 [==============================] - 1s 24ms/step - loss: 5.4874 - mae: 5.9672 - val_loss: 8.2569 - val_mae: 8.7405\n",
            "Epoch 26/100\n",
            "31/31 [==============================] - 1s 20ms/step - loss: 5.4933 - mae: 5.9715 - val_loss: 7.5869 - val_mae: 8.0770\n",
            "Epoch 27/100\n",
            "31/31 [==============================] - 1s 13ms/step - loss: 5.4204 - mae: 5.8949 - val_loss: 8.5308 - val_mae: 9.0210\n",
            "Epoch 28/100\n",
            "31/31 [==============================] - 1s 14ms/step - loss: 5.4575 - mae: 5.9341 - val_loss: 7.3327 - val_mae: 7.8196\n",
            "Epoch 29/100\n",
            "31/31 [==============================] - 1s 13ms/step - loss: 5.3799 - mae: 5.8547 - val_loss: 8.2617 - val_mae: 8.7496\n",
            "Epoch 30/100\n",
            "31/31 [==============================] - 0s 12ms/step - loss: 5.3289 - mae: 5.8062 - val_loss: 8.3539 - val_mae: 8.8449\n",
            "Epoch 31/100\n",
            "31/31 [==============================] - 0s 13ms/step - loss: 5.3351 - mae: 5.8088 - val_loss: 7.9723 - val_mae: 8.4527\n",
            "Epoch 32/100\n",
            "31/31 [==============================] - 1s 13ms/step - loss: 5.2993 - mae: 5.7783 - val_loss: 7.0217 - val_mae: 7.5055\n",
            "Epoch 33/100\n",
            "31/31 [==============================] - 1s 14ms/step - loss: 5.3429 - mae: 5.8215 - val_loss: 8.4229 - val_mae: 8.9137\n",
            "Epoch 34/100\n",
            "31/31 [==============================] - 0s 13ms/step - loss: 5.2655 - mae: 5.7412 - val_loss: 7.2509 - val_mae: 7.7355\n",
            "Epoch 35/100\n",
            "31/31 [==============================] - 0s 13ms/step - loss: 5.3126 - mae: 5.7891 - val_loss: 7.5802 - val_mae: 8.0643\n",
            "Epoch 36/100\n",
            "31/31 [==============================] - 0s 13ms/step - loss: 5.2593 - mae: 5.7373 - val_loss: 7.8653 - val_mae: 8.3483\n",
            "Epoch 37/100\n",
            "31/31 [==============================] - 1s 13ms/step - loss: 5.1570 - mae: 5.6340 - val_loss: 7.1786 - val_mae: 7.6618\n",
            "Epoch 38/100\n",
            "31/31 [==============================] - 0s 13ms/step - loss: 5.1831 - mae: 5.6609 - val_loss: 7.1693 - val_mae: 7.6528\n",
            "Epoch 39/100\n",
            "31/31 [==============================] - 0s 12ms/step - loss: 5.1568 - mae: 5.6341 - val_loss: 7.7755 - val_mae: 8.2592\n",
            "Epoch 40/100\n",
            "31/31 [==============================] - 1s 13ms/step - loss: 5.0897 - mae: 5.5653 - val_loss: 6.7160 - val_mae: 7.1972\n",
            "Epoch 41/100\n",
            "31/31 [==============================] - 0s 12ms/step - loss: 5.1311 - mae: 5.6073 - val_loss: 7.1959 - val_mae: 7.6800\n",
            "Epoch 42/100\n",
            "31/31 [==============================] - 0s 13ms/step - loss: 5.0492 - mae: 5.5264 - val_loss: 7.1431 - val_mae: 7.6268\n",
            "Epoch 43/100\n",
            "31/31 [==============================] - 0s 13ms/step - loss: 5.1144 - mae: 5.5904 - val_loss: 7.7799 - val_mae: 8.2658\n",
            "Epoch 44/100\n",
            "31/31 [==============================] - 0s 13ms/step - loss: 5.0489 - mae: 5.5255 - val_loss: 7.2599 - val_mae: 7.7433\n",
            "Epoch 45/100\n",
            "31/31 [==============================] - 1s 20ms/step - loss: 5.1084 - mae: 5.5867 - val_loss: 7.1943 - val_mae: 7.6773\n",
            "Epoch 46/100\n",
            "31/31 [==============================] - 1s 19ms/step - loss: 5.0056 - mae: 5.4834 - val_loss: 6.9791 - val_mae: 7.4616\n",
            "Epoch 47/100\n",
            "31/31 [==============================] - 1s 16ms/step - loss: 5.1136 - mae: 5.5920 - val_loss: 6.3907 - val_mae: 6.8746\n",
            "Epoch 48/100\n",
            "31/31 [==============================] - 1s 13ms/step - loss: 5.0576 - mae: 5.5365 - val_loss: 6.8397 - val_mae: 7.3223\n",
            "Epoch 49/100\n",
            "31/31 [==============================] - 0s 13ms/step - loss: 4.9687 - mae: 5.4445 - val_loss: 6.6443 - val_mae: 7.1274\n",
            "Epoch 50/100\n",
            "31/31 [==============================] - 1s 13ms/step - loss: 4.9388 - mae: 5.4165 - val_loss: 7.2001 - val_mae: 7.6842\n",
            "Epoch 51/100\n",
            "31/31 [==============================] - 1s 14ms/step - loss: 4.9214 - mae: 5.3931 - val_loss: 6.2102 - val_mae: 6.6927\n",
            "Epoch 52/100\n",
            "31/31 [==============================] - 1s 13ms/step - loss: 4.9491 - mae: 5.4217 - val_loss: 6.9445 - val_mae: 7.4243\n",
            "Epoch 53/100\n",
            "31/31 [==============================] - 1s 14ms/step - loss: 4.8760 - mae: 5.3508 - val_loss: 6.8759 - val_mae: 7.3555\n",
            "Epoch 54/100\n",
            "31/31 [==============================] - 1s 13ms/step - loss: 4.9213 - mae: 5.3996 - val_loss: 6.5883 - val_mae: 7.0701\n",
            "Epoch 55/100\n",
            "31/31 [==============================] - 0s 13ms/step - loss: 4.9622 - mae: 5.4393 - val_loss: 6.5100 - val_mae: 6.9934\n",
            "Epoch 56/100\n",
            "31/31 [==============================] - 0s 13ms/step - loss: 4.8700 - mae: 5.3472 - val_loss: 6.4114 - val_mae: 6.8959\n",
            "Epoch 57/100\n",
            "31/31 [==============================] - 0s 13ms/step - loss: 4.8299 - mae: 5.3058 - val_loss: 6.5846 - val_mae: 7.0646\n",
            "Epoch 58/100\n",
            "31/31 [==============================] - 0s 13ms/step - loss: 4.9088 - mae: 5.3845 - val_loss: 6.9512 - val_mae: 7.4339\n",
            "Epoch 59/100\n",
            "31/31 [==============================] - 1s 13ms/step - loss: 4.8240 - mae: 5.3016 - val_loss: 6.4242 - val_mae: 6.9076\n",
            "Epoch 60/100\n",
            "31/31 [==============================] - 1s 13ms/step - loss: 4.8148 - mae: 5.2923 - val_loss: 6.7718 - val_mae: 7.2503\n",
            "Epoch 61/100\n",
            "31/31 [==============================] - 1s 13ms/step - loss: 4.8115 - mae: 5.2855 - val_loss: 6.2745 - val_mae: 6.7626\n",
            "Epoch 62/100\n",
            "31/31 [==============================] - 0s 13ms/step - loss: 4.7930 - mae: 5.2720 - val_loss: 7.0741 - val_mae: 7.5622\n",
            "Epoch 63/100\n",
            "31/31 [==============================] - 0s 13ms/step - loss: 4.8570 - mae: 5.3301 - val_loss: 6.2886 - val_mae: 6.7754\n",
            "Epoch 64/100\n",
            "31/31 [==============================] - 0s 12ms/step - loss: 4.8781 - mae: 5.3508 - val_loss: 7.2936 - val_mae: 7.7796\n",
            "Epoch 65/100\n",
            "31/31 [==============================] - 0s 13ms/step - loss: 4.7882 - mae: 5.2619 - val_loss: 6.6199 - val_mae: 7.0974\n",
            "Epoch 66/100\n",
            "31/31 [==============================] - 1s 23ms/step - loss: 4.7353 - mae: 5.2120 - val_loss: 7.1462 - val_mae: 7.6325\n",
            "Epoch 67/100\n",
            "31/31 [==============================] - 1s 24ms/step - loss: 4.7562 - mae: 5.2326 - val_loss: 6.3603 - val_mae: 6.8403\n",
            "Epoch 68/100\n",
            "31/31 [==============================] - 1s 13ms/step - loss: 4.7957 - mae: 5.2708 - val_loss: 6.2417 - val_mae: 6.7268\n",
            "Epoch 69/100\n",
            "31/31 [==============================] - 0s 13ms/step - loss: 4.7612 - mae: 5.2424 - val_loss: 6.4990 - val_mae: 6.9756\n",
            "Epoch 70/100\n",
            "31/31 [==============================] - 1s 13ms/step - loss: 4.7599 - mae: 5.2380 - val_loss: 6.7754 - val_mae: 7.2561\n",
            "Epoch 71/100\n",
            "31/31 [==============================] - 0s 13ms/step - loss: 4.7627 - mae: 5.2401 - val_loss: 6.8367 - val_mae: 7.3199\n",
            "Epoch 72/100\n",
            "31/31 [==============================] - 1s 13ms/step - loss: 4.7067 - mae: 5.1820 - val_loss: 6.8271 - val_mae: 7.3101\n",
            "Epoch 73/100\n",
            "31/31 [==============================] - 1s 13ms/step - loss: 4.7210 - mae: 5.1974 - val_loss: 6.0426 - val_mae: 6.5323\n",
            "Epoch 74/100\n",
            "31/31 [==============================] - 1s 14ms/step - loss: 4.7141 - mae: 5.1910 - val_loss: 6.4837 - val_mae: 6.9616\n",
            "Epoch 75/100\n",
            "31/31 [==============================] - 0s 13ms/step - loss: 4.6824 - mae: 5.1592 - val_loss: 6.0407 - val_mae: 6.5301\n",
            "Epoch 76/100\n",
            "31/31 [==============================] - 1s 14ms/step - loss: 4.7519 - mae: 5.2306 - val_loss: 6.0597 - val_mae: 6.5484\n",
            "Epoch 77/100\n",
            "31/31 [==============================] - 0s 13ms/step - loss: 4.7412 - mae: 5.2199 - val_loss: 6.6507 - val_mae: 7.1308\n",
            "Epoch 78/100\n",
            "31/31 [==============================] - 1s 13ms/step - loss: 4.6441 - mae: 5.1177 - val_loss: 6.4952 - val_mae: 6.9742\n",
            "Epoch 79/100\n",
            "31/31 [==============================] - 0s 13ms/step - loss: 4.6209 - mae: 5.0977 - val_loss: 7.0300 - val_mae: 7.5145\n",
            "Epoch 80/100\n",
            "31/31 [==============================] - 1s 14ms/step - loss: 4.6925 - mae: 5.1668 - val_loss: 6.8303 - val_mae: 7.3154\n",
            "Epoch 81/100\n",
            "31/31 [==============================] - 1s 14ms/step - loss: 4.6462 - mae: 5.1208 - val_loss: 6.2452 - val_mae: 6.7240\n",
            "Epoch 82/100\n",
            "31/31 [==============================] - 0s 13ms/step - loss: 4.6234 - mae: 5.1039 - val_loss: 6.3435 - val_mae: 6.8222\n",
            "Epoch 83/100\n",
            "31/31 [==============================] - 1s 13ms/step - loss: 4.5895 - mae: 5.0646 - val_loss: 6.6425 - val_mae: 7.1227\n",
            "Epoch 84/100\n",
            "31/31 [==============================] - 0s 13ms/step - loss: 4.6602 - mae: 5.1354 - val_loss: 6.2009 - val_mae: 6.6798\n",
            "Epoch 85/100\n",
            "31/31 [==============================] - 1s 14ms/step - loss: 4.6013 - mae: 5.0794 - val_loss: 6.4162 - val_mae: 6.8953\n",
            "Epoch 86/100\n",
            "31/31 [==============================] - 1s 13ms/step - loss: 4.6037 - mae: 5.0778 - val_loss: 6.2023 - val_mae: 6.6813\n",
            "Epoch 87/100\n",
            "31/31 [==============================] - 1s 18ms/step - loss: 4.6223 - mae: 5.0984 - val_loss: 5.8598 - val_mae: 6.3484\n",
            "Epoch 88/100\n",
            "31/31 [==============================] - 1s 18ms/step - loss: 4.5905 - mae: 5.0666 - val_loss: 5.8580 - val_mae: 6.3474\n",
            "Epoch 89/100\n",
            "31/31 [==============================] - 1s 13ms/step - loss: 4.6775 - mae: 5.1528 - val_loss: 5.9544 - val_mae: 6.4382\n",
            "Epoch 90/100\n",
            "31/31 [==============================] - 1s 13ms/step - loss: 4.6311 - mae: 5.1054 - val_loss: 6.2048 - val_mae: 6.6841\n",
            "Epoch 91/100\n",
            "31/31 [==============================] - 1s 13ms/step - loss: 4.5931 - mae: 5.0668 - val_loss: 6.4310 - val_mae: 6.9089\n",
            "Epoch 92/100\n",
            "31/31 [==============================] - 1s 14ms/step - loss: 4.5560 - mae: 5.0320 - val_loss: 6.5044 - val_mae: 6.9865\n",
            "Epoch 93/100\n",
            "31/31 [==============================] - 0s 13ms/step - loss: 4.6976 - mae: 5.1751 - val_loss: 6.6110 - val_mae: 7.0942\n",
            "Epoch 94/100\n",
            "31/31 [==============================] - 1s 13ms/step - loss: 4.6672 - mae: 5.1452 - val_loss: 7.6075 - val_mae: 8.0909\n",
            "Epoch 95/100\n",
            "31/31 [==============================] - 1s 14ms/step - loss: 4.7394 - mae: 5.2165 - val_loss: 7.5263 - val_mae: 8.0141\n",
            "Epoch 96/100\n",
            "31/31 [==============================] - 1s 14ms/step - loss: 4.8107 - mae: 5.2873 - val_loss: 5.7259 - val_mae: 6.2115\n",
            "Epoch 97/100\n",
            "31/31 [==============================] - 1s 15ms/step - loss: 4.6028 - mae: 5.0797 - val_loss: 6.3090 - val_mae: 6.7865\n",
            "Epoch 98/100\n",
            "31/31 [==============================] - 1s 13ms/step - loss: 4.5824 - mae: 5.0573 - val_loss: 6.9528 - val_mae: 7.4358\n",
            "Epoch 99/100\n",
            "31/31 [==============================] - 1s 13ms/step - loss: 4.5719 - mae: 5.0511 - val_loss: 5.9913 - val_mae: 6.4724\n",
            "Epoch 100/100\n",
            "31/31 [==============================] - 0s 13ms/step - loss: 4.5470 - mae: 5.0199 - val_loss: 6.3598 - val_mae: 6.8380\n"
          ]
        }
      ],
      "source": [
        "# Reset states generated by Keras\n",
        "tf.keras.backend.clear_session()\n",
        "\n",
        "# Build the model\n",
        "model = tf.keras.models.Sequential([\n",
        "  tf.keras.layers.Lambda(lambda x: tf.expand_dims(x, axis=-1),\n",
        "                      input_shape=[None]),\n",
        "   tf.keras.layers.Bidirectional(tf.keras.layers.LSTM(32, return_sequences=True)),\n",
        "  tf.keras.layers.Bidirectional(tf.keras.layers.LSTM(32)),\n",
        "  tf.keras.layers.Dense(1),\n",
        "  tf.keras.layers.Lambda(lambda x: x * 100.0)\n",
        "])\n",
        "\n",
        "# Set the learning rate\n",
        "learning_rate = 2e-6\n",
        "\n",
        "# Set the optimizer\n",
        "optimizer = tf.keras.optimizers.SGD(learning_rate=learning_rate, momentum=0.9)\n",
        "\n",
        "# Set the training parameters\n",
        "model.compile(loss=tf.keras.losses.Huber(),\n",
        "              optimizer=optimizer,\n",
        "              metrics=[\"mae\"])\n",
        "\n",
        "# Train the model\n",
        "history = model.fit(dataset,epochs=100, validation_data=val_set)"
      ]
    }
  ],
  "metadata": {
    "accelerator": "GPU",
    "colab": {
      "provenance": [],
      "gpuType": "T4"
    },
    "kernelspec": {
      "display_name": "Python 3",
      "name": "python3"
    },
    "language_info": {
      "codemirror_mode": {
        "name": "ipython",
        "version": 3
      },
      "file_extension": ".py",
      "mimetype": "text/x-python",
      "name": "python",
      "nbconvert_exporter": "python",
      "pygments_lexer": "ipython3",
      "version": "3.7.4"
    }
  },
  "nbformat": 4,
  "nbformat_minor": 0
}